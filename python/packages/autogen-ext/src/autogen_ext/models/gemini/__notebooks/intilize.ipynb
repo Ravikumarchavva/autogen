{
 "cells": [
  {
   "cell_type": "markdown",
   "id": "c452e469",
   "metadata": {},
   "source": [
    "# `gemini/config/__init__.py`"
   ]
  },
  {
   "cell_type": "code",
   "execution_count": 2,
   "id": "0c9e8176",
   "metadata": {},
   "outputs": [],
   "source": [
    "from typing import Dict, Optional, Literal, Union, TypedDict, Type, Any, Required\n",
    "\n",
    "from pydantic import BaseModel, SecretStr\n",
    "\n",
    "from google.genai import types, client\n",
    "from google.auth.credentials import Credentials\n",
    "\n",
    "class ResponseFormatConfig(TypedDict, total=False):\n",
    "    type: Literal[\"text\", \"json_object\", \"pydantic\"]\n",
    "    schema: Optional[Union[Dict[str, Any], Type[BaseModel]]]\n",
    "\n",
    "class GeminiChatClientArguments(TypedDict, total=False):\n",
    "    vertexai: Optional[bool]\n",
    "    credentials: Optional[Credentials]\n",
    "    location: Optional[str]\n",
    "    project: Optional[str]\n",
    "    debug_config: Optional[client.DebugConfig]\n",
    "    http_options: types.HttpOptionsOrDict\n",
    "\n",
    "class GeminiClientConfig(GeminiChatClientArguments):\n",
    "    api_key: Required[SecretStr]\n",
    "\n",
    "class GeminiContentConfig(TypedDict, total=False):\n",
    "    config: types.GenerateContentConfigOrDict"
   ]
  },
  {
   "cell_type": "markdown",
   "id": "828475bd",
   "metadata": {},
   "source": [
    "# `gemini/_utils.py`"
   ]
  },
  {
   "cell_type": "code",
   "execution_count": null,
   "id": "6f98589c",
   "metadata": {},
   "outputs": [],
   "source": [
    "from google.genai import Client\n",
    "from autogen_core.models import LLMMessage, SystemMessage, UserMessage, AssistantMessage\n",
    "\n",
    "def user_message_to_gemini():\n",
    "    pass\n",
    "def system_message_to_gemini():\n",
    "    pass\n",
    "def assistant_message_to_gemini():\n",
    "    pass\n",
    "def tool_message_to_gemini():\n",
    "    pass\n",
    "\n",
    "def to_gemini_type():\n",
    "    pass\n",
    "\n",
    "def type_to_role():\n",
    "    pass\n",
    "\n",
    "def convert_tools():\n",
    "    pass\n",
    "\n",
    "def finish_reason():\n",
    "    pass\n",
    "\n",
    "# text\n",
    "# image\n",
    "# tools\n",
    "# audio"
   ]
  },
  {
   "cell_type": "code",
   "execution_count": null,
   "id": "4269bf64",
   "metadata": {},
   "outputs": [],
   "source": [
    "from autogen_core.models import ChatCompletionClient, ModelInfo\n",
    "class GeminiChatCompletionClient(ChatCompletionClient):\n",
    "    def __init__(self):\n",
    "        self._model_info = ModelInfo()\n",
    "\n",
    "    @property\n",
    "    def model_info(self) -> ModelInfo:\n",
    "        return self._model_info"
   ]
  }
 ],
 "metadata": {
  "kernelspec": {
   "display_name": "python",
   "language": "python",
   "name": "python3"
  },
  "language_info": {
   "codemirror_mode": {
    "name": "ipython",
    "version": 3
   },
   "file_extension": ".py",
   "mimetype": "text/x-python",
   "name": "python",
   "nbconvert_exporter": "python",
   "pygments_lexer": "ipython3",
   "version": "3.12.3"
  }
 },
 "nbformat": 4,
 "nbformat_minor": 5
}
